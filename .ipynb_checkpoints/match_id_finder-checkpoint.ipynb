{
 "cells": [
  {
   "cell_type": "code",
   "execution_count": 56,
   "metadata": {},
   "outputs": [],
   "source": [
    "import requests\n",
    "from bs4 import BeautifulSoup\n",
    "import re\n",
    "import json\n",
    "import bz2"
   ]
  },
  {
   "cell_type": "code",
   "execution_count": 3,
   "metadata": {},
   "outputs": [],
   "source": [
    "r = requests.get(\"http://dota2protracker.com\")"
   ]
  },
  {
   "cell_type": "code",
   "execution_count": 6,
   "metadata": {},
   "outputs": [],
   "source": [
    "soup = BeautifulSoup(r.text)"
   ]
  },
  {
   "cell_type": "code",
   "execution_count": 20,
   "metadata": {},
   "outputs": [],
   "source": [
    "raw_links = soup.findAll('a', href=re.compile('dotabuff'))"
   ]
  },
  {
   "cell_type": "code",
   "execution_count": 38,
   "metadata": {},
   "outputs": [],
   "source": [
    "match_ids = []\n",
    "for link in raw_links:\n",
    "    match_id = re.search(r\"\\d{10,}\", str(link))[0]\n",
    "    match_ids.append(match_id)"
   ]
  },
  {
   "cell_type": "code",
   "execution_count": 61,
   "metadata": {},
   "outputs": [],
   "source": [
    "def get_replay(match_id):\n",
    "    #check if replay downloaded\n",
    "    \n",
    "    #get salt and cluster from opendota\n",
    "    url = \"https://api.opendota.com/api/replays?match_id={}\".format(match_id)\n",
    "    raw_json = requests.get(url)\n",
    "    replay_info = json.loads(raw_json.text)[0]\n",
    "    \n",
    "    #download from valve servers\n",
    "    url = \"http://replay{}.valve.net/570/{}_{}.dem.bz2\".format(replay_info['cluster'], replay_info['match_id'], replay_info['replay_salt'])\n",
    "    replay = requests.get(url, allow_redirects=True)\n",
    "    decompressed = bz2.decompress(replay.content)\n",
    "    open('{}.dem'.format(replay_info['match_id']), 'wb').write(decompressed)"
   ]
  },
  {
   "cell_type": "code",
   "execution_count": 41,
   "metadata": {},
   "outputs": [],
   "source": [
    "url = \"https://api.opendota.com/api/replays?match_id={}\".format('5411957111')\n",
    "replay_info = requests.get(url)"
   ]
  },
  {
   "cell_type": "code",
   "execution_count": 63,
   "metadata": {},
   "outputs": [],
   "source": [
    "get_replay('5411945507')"
   ]
  },
  {
   "cell_type": "code",
   "execution_count": 58,
   "metadata": {},
   "outputs": [],
   "source": [
    "replay_info = json.loads(replay_info.text)[0]\n",
    "url = \"http://replay{}.valve.net/570/{}_{}.dem.bz2\".format(replay_info['cluster'], replay_info['match_id'], replay_info['replay_salt'])\n",
    "replay = requests.get(url, allow_redirects=True)"
   ]
  },
  {
   "cell_type": "code",
   "execution_count": 64,
   "metadata": {},
   "outputs": [
    {
     "data": {
      "text/plain": [
       "100"
      ]
     },
     "execution_count": 64,
     "metadata": {},
     "output_type": "execute_result"
    }
   ],
   "source": [
    "len(match_ids)"
   ]
  },
  {
   "cell_type": "code",
   "execution_count": null,
   "metadata": {},
   "outputs": [],
   "source": []
  }
 ],
 "metadata": {
  "kernelspec": {
   "display_name": "Python 3",
   "language": "python",
   "name": "python3"
  },
  "language_info": {
   "codemirror_mode": {
    "name": "ipython",
    "version": 3
   },
   "file_extension": ".py",
   "mimetype": "text/x-python",
   "name": "python",
   "nbconvert_exporter": "python",
   "pygments_lexer": "ipython3",
   "version": "3.7.6"
  }
 },
 "nbformat": 4,
 "nbformat_minor": 4
}
