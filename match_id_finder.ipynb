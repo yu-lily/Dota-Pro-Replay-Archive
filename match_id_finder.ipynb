{
 "cells": [
  {
   "cell_type": "code",
   "execution_count": 1,
   "metadata": {},
   "outputs": [],
   "source": [
    "import requests\n",
    "from bs4 import BeautifulSoup\n",
    "import re\n",
    "import json\n",
    "import bz2\n",
    "import zipfile\n",
    "import locale\n",
    "from os import path"
   ]
  },
  {
   "cell_type": "code",
   "execution_count": 2,
   "metadata": {},
   "outputs": [],
   "source": [
    "def get_replay(match_id):\n",
    "    #check if replay downloaded\n",
    "    \n",
    "    \n",
    "    url = \"https://api.opendota.com/api/replays?match_id={}\".format(match_id)\n",
    "    replay_info = requests.get(url)\n",
    "    \n",
    "    #get salt and cluster from opendota\n",
    "    url = \"https://api.opendota.com/api/replays?match_id={}\".format(match_id)\n",
    "    raw_json = requests.get(url)\n",
    "    replay_info = json.loads(raw_json.text)[0]\n",
    "    \n",
    "    #download from valve servers\n",
    "    url = \"http://replay{}.valve.net/570/{}_{}.dem.bz2\".format(replay_info['cluster'], replay_info['match_id'], replay_info['replay_salt'])\n",
    "    replay = requests.get(url, allow_redirects=True)\n",
    "    #with open('{}.bz2'.format(match_id), 'wb') as f:\n",
    "    #    f.write(replay.content)\n",
    "    decompressed = bz2.decompress(replay.content)\n",
    "    with open('replays/{}.dem'.format(replay_info['match_id']), 'wb') as f:\n",
    "        f.write(decompressed)"
   ]
  },
  {
   "cell_type": "code",
   "execution_count": 3,
   "metadata": {},
   "outputs": [],
   "source": [
    "def update():\n",
    "    r = requests.get(\"http://dota2protracker.com\")\n",
    "    soup = BeautifulSoup(r.text)\n",
    "    raw_links = soup.findAll('a', href=re.compile('dotabuff'))\n",
    "    match_ids = []\n",
    "    for link in raw_links:\n",
    "        match_id = re.search(r\"\\d{10,}\", str(link))[0]\n",
    "        match_ids.append(match_id)\n",
    "    for match_id in match_ids:\n",
    "        if not path.exists(match_id):\n",
    "            get_replay(match_id)"
   ]
  },
  {
   "cell_type": "code",
   "execution_count": 4,
   "metadata": {},
   "outputs": [],
   "source": [
    "update()"
   ]
  },
  {
   "cell_type": "code",
   "execution_count": null,
   "metadata": {},
   "outputs": [],
   "source": []
  }
 ],
 "metadata": {
  "kernelspec": {
   "display_name": "Python 3",
   "language": "python",
   "name": "python3"
  },
  "language_info": {
   "codemirror_mode": {
    "name": "ipython",
    "version": 3
   },
   "file_extension": ".py",
   "mimetype": "text/x-python",
   "name": "python",
   "nbconvert_exporter": "python",
   "pygments_lexer": "ipython3",
   "version": "3.7.6"
  }
 },
 "nbformat": 4,
 "nbformat_minor": 4
}
